{
  "cells": [
    {
      "cell_type": "code",
      "source": [
        "\"\"\"\n",
        "Proyecto 1. Evaluación de Planeación de Proyectos\n",
        "Autor. Angeles Rojo Sofia\n",
        "Fecha. 24/04/2024\n",
        "\n",
        "Este programa a través del uso de arcos y nodos es capaz de leer un\n",
        "excel (terminación \".xlsx\") que se encuentre en la nube de Google Drive\n",
        "y tomar los datos del mismo (siempre que estén organizados en columnas\n",
        "títuladas \"Actividad\",\"Duracion\", \"Descripcion\" y \"Precedentes\",\n",
        "respectivamente), para así obtener la ruta más corta y eficiente hacia\n",
        "el objetivo establecido. En forma de un documento con terminación .txt\n",
        "se entregarán las \"actividades críticas\" (siendo estas las actividades\n",
        "vitales del proyecto) y \"el tiempo necesario para la elaboración del\n",
        "proyecto\".\n",
        "\n",
        "\"\"\"\n",
        "\n",
        "#Bibliotecas\n",
        "\n",
        "!pip install criticalpath\n",
        "\n",
        "from google.colab import drive\n",
        "drive.mount(\"/content/gdrive\")\n",
        "\n",
        "import pandas as pd\n",
        "from criticalpath import Node\n",
        "\n",
        "#Variables\n",
        "\n",
        "ruta = \"/content/gdrive/MyDrive/Creacion_de_la_carrera_de_mat_ap.xlsx\"\n",
        "df = pd.read_excel(ruta)\n",
        "\n",
        "actividades = df['Actividad'].tolist()\n",
        "duraciones = df['Duracion'].tolist()\n",
        "descripcion = df['Descripcion'].tolist()\n",
        "precedentes_str = df['Precedentes'].astype(str).tolist()\n",
        "\n",
        "# FUNCIONES\n",
        "\n",
        "def dar_precedentes(precedentes_str):\n",
        "  \"\"\"\n",
        "  Recibe una lista de cadenas que proviene de la columna de Precedentes del\n",
        "  Excel y regresa una lista de listas, datos de la columna precedentes.\n",
        "\n",
        "  \"\"\"\n",
        "  precedentes_str = df['Precedentes'].astype(str).tolist()\n",
        "  precedentes = [list(map(int, pred.split(',')))\n",
        "                   if pred != 'nan' else []\n",
        "                   for pred in precedentes_str]\n",
        "  return precedentes\n",
        "\n",
        "precedentes = dar_precedentes(precedentes_str)\n",
        "\n",
        "def crear_grafica(actividades, duraciones, precedentes):\n",
        "    \"\"\"\n",
        "    Recibe las listas de Nodos, Precedetnes y Duraciones del Excel\n",
        "    para luego crear una gráfica de nodos con dependencias.\n",
        "\n",
        "    \"\"\"\n",
        "    p = Node(\"Plan\")\n",
        "    nodos = {}\n",
        "\n",
        "    for actividad, duracion in zip(actividades, duraciones):\n",
        "        nodos[actividad] = p.add(Node(str(actividad),\n",
        "                                      duration=duracion))\n",
        "\n",
        "    for actividad, preds in zip(actividades, precedentes):\n",
        "        for pred in preds:\n",
        "            if pred in nodos:\n",
        "                p.link(nodos[pred], nodos[actividad])\n",
        "\n",
        "    p.update_all()\n",
        "    return p\n",
        "\n",
        "p = crear_grafica(actividades, duraciones, precedentes)\n",
        "\n",
        "def correr_proyecto():\n",
        "  \"\"\"\n",
        "  Corre el proyecto completo, regresando un archivo .txt\n",
        "  \"\"\"\n",
        "  ac = p.get_critical_path()\n",
        "  ang = []\n",
        "  for i in range(len(ac)):\n",
        "    ang.append(ac[i].name)\n",
        "\n",
        "    with open('Resultados.txt', 'w') as f:\n",
        "      f.write(\"Las actividades críticas son:\\n\")\n",
        "      for i in ang:\n",
        "        f.write(f\"{i}. {descripcion[int(i)-1]}\\n\")\n",
        "\n",
        "  with open('Resultados.txt', 'a') as f:\n",
        "      f.write(\n",
        "          f\"El tiempo necesario para la elaboración del \"\n",
        "          f\"proyecto es de: {p.duration} semanas.\\n\"\n",
        "      )\n",
        "\n",
        "  return\n",
        "\n",
        "if __name__ == \"__main__\":\n",
        "  correr_proyecto()\n"
      ],
      "metadata": {
        "colab": {
          "base_uri": "https://localhost:8080/"
        },
        "id": "P4KVbZQ_PiXF",
        "outputId": "aa5085c5-0bd4-4a49-d79c-2cc48679da89"
      },
      "execution_count": 1,
      "outputs": [
        {
          "output_type": "stream",
          "name": "stdout",
          "text": [
            "Collecting criticalpath\n",
            "  Downloading criticalpath-0.1.5.tar.gz (10 kB)\n",
            "  Preparing metadata (setup.py) ... \u001b[?25l\u001b[?25hdone\n",
            "Building wheels for collected packages: criticalpath\n",
            "  Building wheel for criticalpath (setup.py) ... \u001b[?25l\u001b[?25hdone\n",
            "  Created wheel for criticalpath: filename=criticalpath-0.1.5-py3-none-any.whl size=12027 sha256=4aa5997586058081c81338bb43429198a682ace40d6b1be525baae52b92a45a4\n",
            "  Stored in directory: /root/.cache/pip/wheels/cd/48/07/ead88c1969e7d36a113558364b0e8fc7590f2d7c85481a6dde\n",
            "Successfully built criticalpath\n",
            "Installing collected packages: criticalpath\n",
            "Successfully installed criticalpath-0.1.5\n",
            "Mounted at /content/gdrive\n"
          ]
        }
      ]
    },
    {
      "cell_type": "code",
      "source": [],
      "metadata": {
        "id": "-DfLsGkDlFkp"
      },
      "execution_count": null,
      "outputs": []
    }
  ],
  "metadata": {
    "colab": {
      "provenance": []
    },
    "kernelspec": {
      "display_name": "Python 3",
      "name": "python3"
    },
    "language_info": {
      "name": "python"
    }
  },
  "nbformat": 4,
  "nbformat_minor": 0
}